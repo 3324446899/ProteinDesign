{
 "cells": [
  {
   "attachments": {},
   "cell_type": "markdown",
   "metadata": {},
   "source": [
    "# 使用VAE生成序列"
   ]
  },
  {
   "cell_type": "code",
   "execution_count": 17,
   "metadata": {},
   "outputs": [],
   "source": [
    "import torch\n",
    "import utils"
   ]
  },
  {
   "cell_type": "code",
   "execution_count": 18,
   "metadata": {},
   "outputs": [],
   "source": [
    "# 待输出的序列条数\n",
    "n_out = 15\n",
    "model_file = \"./VAE/good_models/PF00153_RP15_100_2023-04-14_15:30:44.pth\""
   ]
  },
  {
   "cell_type": "code",
   "execution_count": 19,
   "metadata": {},
   "outputs": [
    {
     "name": "stdout",
     "output_type": "stream",
     "text": [
      "2200\n"
     ]
    }
   ],
   "source": [
    "from model import VAE\n",
    "import utils\n",
    "input_size = utils.longest_len * utils.n_symbols\n",
    "print(input_size)"
   ]
  },
  {
   "cell_type": "code",
   "execution_count": 20,
   "metadata": {},
   "outputs": [
    {
     "data": {
      "text/plain": [
       "<All keys matched successfully>"
      ]
     },
     "execution_count": 20,
     "metadata": {},
     "output_type": "execute_result"
    }
   ],
   "source": [
    "# 创建、加载模型\n",
    "vae = VAE()\n",
    "vae.load_state_dict(\n",
    "    torch.load(model_file)\n",
    ")\n",
    "# print(vae)"
   ]
  },
  {
   "cell_type": "code",
   "execution_count": 21,
   "metadata": {},
   "outputs": [
    {
     "name": "stdout",
     "output_type": "stream",
     "text": [
      "输入序列：WWKQLMAGAMAGAVSRTGTAPLDRMKVFMQVHSSKTNKISISSGFKQMVKEGGIRSLWRGNGVNVLKIAPETAIKFWAYEQYKKLIA\n",
      "len of seq: 87\n"
     ]
    }
   ],
   "source": [
    "# 从待输入fasta文件中读取序列\n",
    "from Bio import SeqIO\n",
    "test_file = \"./data/test_file.fasta\"\n",
    "seq = next(SeqIO.parse(test_file, \"fasta\")).seq\n",
    "print(\"输入序列：{}\".format(seq))\n",
    "print(\"len of seq: {}\".format(len(seq)))\n",
    "\n",
    "# 将超过seq length的部分cut掉\n",
    "# if len(seq) > utils.longest_len:\n",
    "#     print(\"序列长度超过100，剪掉右侧多余序列。\")\n",
    "#     seq = seq[:100]\n",
    "#     print(\"剪除后序列为：{}\".format(seq))\n",
    "#     print(\"len of seq: {}\".format(len(seq)))"
   ]
  },
  {
   "cell_type": "code",
   "execution_count": 22,
   "metadata": {},
   "outputs": [
    {
     "name": "stdout",
     "output_type": "stream",
     "text": [
      "正在筛选长度在 [0, 100] 的序列...\n",
      "已筛选出 1 条符合条件的序列。\n",
      "正在将序列转为独热编码...\n",
      "成功。每条序列独热编码后长度为 2200\n",
      "独热编码已转为tensor数据类型。\n",
      "训练数据处理完毕。\n",
      "tensor([[0., 0., 0.,  ..., 0., 0., 1.]])\n",
      "torch.Size([1, 2200])\n"
     ]
    }
   ],
   "source": [
    "# 数据预处理\n",
    "from dataset import MyDataset\n",
    "\n",
    "test_dataset = MyDataset(test_file, utils.shortest_len, utils.longest_len)\n",
    "test_data = test_dataset.transform_2_tensor()\n",
    "\n",
    "print(test_data)\n",
    "print(test_data.shape)"
   ]
  },
  {
   "cell_type": "code",
   "execution_count": 23,
   "metadata": {},
   "outputs": [
    {
     "name": "stdout",
     "output_type": "stream",
     "text": [
      "生成序列已保存至 ./VAE/results/test_results/PF00153_RP15_2023-04-14_15:49:07.txt\n",
      "生成序列已保存至 ./VAE/results/test_results/PF00153_RP15_2023-04-14_15:49:07.txt\n",
      "生成序列已保存至 ./VAE/results/test_results/PF00153_RP15_2023-04-14_15:49:07.txt\n",
      "生成序列已保存至 ./VAE/results/test_results/PF00153_RP15_2023-04-14_15:49:07.txt\n",
      "生成序列已保存至 ./VAE/results/test_results/PF00153_RP15_2023-04-14_15:49:07.txt\n",
      "生成序列已保存至 ./VAE/results/test_results/PF00153_RP15_2023-04-14_15:49:07.txt\n",
      "生成序列已保存至 ./VAE/results/test_results/PF00153_RP15_2023-04-14_15:49:07.txt\n",
      "生成序列已保存至 ./VAE/results/test_results/PF00153_RP15_2023-04-14_15:49:07.txt\n",
      "生成序列已保存至 ./VAE/results/test_results/PF00153_RP15_2023-04-14_15:49:07.txt\n",
      "生成序列已保存至 ./VAE/results/test_results/PF00153_RP15_2023-04-14_15:49:07.txt\n"
     ]
    }
   ],
   "source": [
    "import time\n",
    "\n",
    "# 生成新序列\n",
    "is_cut_gap = True\n",
    "vae.eval()\n",
    "with torch.no_grad():\n",
    "    result_path = utils.VAE_dir + utils.test_results_dir + \"{}_{}.txt\".format(utils.protein_name, utils.cur_time())\n",
    "    with open(result_path, \"w\") as file_obj:\n",
    "        file_obj.write(\">seq_original\\n{}\\n\".format(seq.replace(\"-\", \"\") if is_cut_gap else seq))\n",
    "    for i in range(10):\n",
    "        output, _, _ = vae(test_data)\n",
    "        time.sleep(1)\n",
    "        utils.gen_seq(output, 1, result_path, write_mode=\"a\", cut_gap=is_cut_gap)"
   ]
  },
  {
   "cell_type": "code",
   "execution_count": 24,
   "metadata": {},
   "outputs": [],
   "source": [
    "from torch import nn\n",
    "import torch"
   ]
  },
  {
   "cell_type": "code",
   "execution_count": 25,
   "metadata": {},
   "outputs": [
    {
     "data": {
      "text/plain": [
       "1"
      ]
     },
     "execution_count": 25,
     "metadata": {},
     "output_type": "execute_result"
    }
   ],
   "source": [
    "if True:\n",
    "    c = 1\n",
    "c"
   ]
  },
  {
   "cell_type": "code",
   "execution_count": 26,
   "metadata": {},
   "outputs": [
    {
     "name": "stdout",
     "output_type": "stream",
     "text": [
      "563\n"
     ]
    }
   ],
   "source": [
    "a = \"---SVGVHM-MAG---A-C-A-----G-----I---M------E-H-----C---V----\\\n",
    "-M----Y------S---------V------D----------S----------V---K--T\\\n",
    "-----R-R-QI-------------------------------------------------\\\n",
    "--------------------------------------M--TP-G---------P---G-\\\n",
    "--G---G---V---G---------------------------------------------\\\n",
    "---------------------IITE-I-G--N--M----M--------------------\\\n",
    "--R---Q------E-----G------I-----FR--------------------------\\\n",
    "-------P----F--------R---------G------------I-------------S-\\\n",
    "AM-V--I------G--A----------G-------P----A-H---------AL----Y-\\\n",
    "FS-------CY-EYLKDRIS---\"\n",
    "print(len(a))"
   ]
  },
  {
   "cell_type": "code",
   "execution_count": 1,
   "metadata": {},
   "outputs": [
    {
     "data": {
      "text/plain": [
       "66"
      ]
     },
     "execution_count": 1,
     "metadata": {},
     "output_type": "execute_result"
    }
   ],
   "source": [
    "seq = \"ALANAPPEQQRTMLGEALYPLVDQLEHDAAAKVTGMLLEMDQPEVLHLIESPDALKAKVAEAMDVL\"\n",
    "len(seq)"
   ]
  },
  {
   "cell_type": "code",
   "execution_count": 2,
   "metadata": {},
   "outputs": [
    {
     "data": {
      "text/plain": [
       "5808.0"
      ]
     },
     "execution_count": 2,
     "metadata": {},
     "output_type": "execute_result"
    }
   ],
   "source": [
    "17424/3"
   ]
  },
  {
   "cell_type": "code",
   "execution_count": null,
   "metadata": {},
   "outputs": [],
   "source": []
  }
 ],
 "metadata": {
  "kernelspec": {
   "display_name": "pytorch",
   "language": "python",
   "name": "python3"
  },
  "language_info": {
   "codemirror_mode": {
    "name": "ipython",
    "version": 3
   },
   "file_extension": ".py",
   "mimetype": "text/x-python",
   "name": "python",
   "nbconvert_exporter": "python",
   "pygments_lexer": "ipython3",
   "version": "3.8.0"
  },
  "orig_nbformat": 4,
  "vscode": {
   "interpreter": {
    "hash": "67bfa2628a3f53f1ad8cf470fdd86c8fbe06a2bc93d7ffb8d530cf38a4f3a94a"
   }
  }
 },
 "nbformat": 4,
 "nbformat_minor": 2
}
